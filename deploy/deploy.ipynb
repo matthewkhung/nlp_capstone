{
 "cells": [
  {
   "cell_type": "code",
   "execution_count": 1,
   "id": "f11d523c-3961-457a-a69c-2da9f24333a8",
   "metadata": {},
   "outputs": [],
   "source": [
    "import os\n",
    "import utils\n",
    "import configparser"
   ]
  },
  {
   "cell_type": "code",
   "execution_count": 2,
   "id": "116a8c09-1b6e-40e6-bcfa-e187d7ef222d",
   "metadata": {},
   "outputs": [
    {
     "name": "stdout",
     "output_type": "stream",
     "text": [
      "Docker version 20.10.17, build 100c701\r\n",
      "Python 3.8.2\r\n"
     ]
    }
   ],
   "source": [
    "# fix path variable\n",
    "!docker --version\n",
    "!python --version"
   ]
  },
  {
   "cell_type": "markdown",
   "source": [
    "### Load config from file"
   ],
   "metadata": {
    "collapsed": false
   }
  },
  {
   "cell_type": "code",
   "execution_count": 3,
   "outputs": [],
   "source": [
    "config = configparser.ConfigParser()\n",
    "config.read('disaster_tweet_detect.config')\n",
    "image_name = config['default']['image_name']\n",
    "docker_repo = config['default']['docker_repo']\n",
    "docker_usr = config['default']['docker_usr']\n",
    "docker_pwd = config['default']['docker_pwd']\n",
    "build_req = False\n",
    "build_image = True\n",
    "docker_upload = True\n",
    "run_local = True"
   ],
   "metadata": {
    "collapsed": false
   }
  },
  {
   "cell_type": "markdown",
   "id": "25ae5eea-b0a9-463d-a55f-bcdb1c74537e",
   "metadata": {},
   "source": [
    "### Build requirements.txt\n",
    "**pipreqs** builds the requirements.txt based on the libraries used in the notebook. **nbconvert** is used to convert the notebook to a script that can be used by **pipreqs**. Additional line added to include **jupyter** as it is needed to run the Bokeh app."
   ]
  },
  {
   "cell_type": "code",
   "execution_count": 4,
   "id": "cbf144fd-45c1-47ef-b218-a87ead30fea1",
   "metadata": {},
   "outputs": [],
   "source": [
    "if build_req:\n",
    "    !pip freeze | grep -v disaster_tweet_detect > requirements.txt"
   ]
  },
  {
   "cell_type": "markdown",
   "id": "34558c08-0764-4c8e-a3c9-e43afcef6753",
   "metadata": {},
   "source": [
    "### Build docker image\n",
    "Image is build with the *image name*. The build will take a while on the first run because it needs to download the base image."
   ]
  },
  {
   "cell_type": "code",
   "execution_count": 5,
   "id": "8e5c666a-7701-49be-a266-cc82f9502fb5",
   "metadata": {},
   "outputs": [
    {
     "name": "stdout",
     "output_type": "stream",
     "text": [
      "sha256:623ad16af2916e24f8585e151086492f4de2673e0e89820f380a07f75184b49c\r\n"
     ]
    }
   ],
   "source": [
    "if build_image:\n",
    "    # build docker image\n",
    "    !(docker build -q -t {image_name} ..)"
   ]
  },
  {
   "cell_type": "markdown",
   "source": [
    "### Upload to private docker registry\n",
    "\n",
    "Registry is hosted on a private NAS."
   ],
   "metadata": {
    "collapsed": false
   }
  },
  {
   "cell_type": "code",
   "execution_count": 6,
   "outputs": [
    {
     "name": "stdout",
     "output_type": "stream",
     "text": [
      "WARNING! Using --password via the CLI is insecure. Use --password-stdin.\r\n",
      "Login Succeeded\r\n",
      "The push refers to repository [dockerio.themaplevault.synology.me/disaster_tweet_detect]\r\n",
      "\r\n",
      "\u001B[1Bb975b5a8: Preparing \r\n",
      "\u001B[1Bb982a73a: Preparing \r\n",
      "\u001B[1Bb85609b2: Preparing \r\n",
      "\u001B[1B136332b1: Preparing \r\n",
      "\u001B[1B4a6544f9: Preparing \r\n",
      "\u001B[1B9681971a: Preparing \r\n",
      "\u001B[1B4fab7f3e: Preparing \r\n",
      "\u001B[1Bbf18a086: Preparing \r\n",
      "\u001B[1B9b864b54: Preparing \r\n",
      "\u001B[1B5a2609e8: Preparing \r\n",
      "\u001B[1B3905c937: Preparing \r\n",
      "\u001B[1B3cc8b216: Preparing \r\n",
      "\u001B[1B4f8b2aac: Preparing \r\n",
      "\u001B[1B67b9150b: Preparing \r\n",
      "\u001B[1B3914fb92: Preparing \r\n",
      "\u001B[1B1f71007e: Preparing \r\n",
      "\u001B[1Beb83ea03: Layer already exists \u001B[11A\u001B[2K\u001B[6A\u001B[2K\u001B[1A\u001B[2Klatest: digest: sha256:702802ceca2bb4222948a624bd4dccd7b53730e33dd83962a7596e89d66015e9 size: 3886\r\n"
     ]
    }
   ],
   "source": [
    "if docker_upload:\n",
    "    !docker tag {image_name}:latest {docker_repo}/{image_name}:latest\n",
    "    !docker login {docker_repo} -u {docker_usr} -p {docker_pwd}\n",
    "    !docker push {docker_repo}/{image_name}:latest"
   ],
   "metadata": {
    "collapsed": false
   }
  },
  {
   "cell_type": "markdown",
   "source": [
    "### Run docker image locally\n",
    "Docker image will run on a docker server. The Streamlit server will run with its default port (80) but needs to be port forwarded by docker and is defined below."
   ],
   "metadata": {
    "collapsed": false
   }
  },
  {
   "cell_type": "code",
   "execution_count": null,
   "outputs": [
    {
     "name": "stdout",
     "output_type": "stream",
     "text": [
      "2023-04-09 09:09:18.879 INFO    matplotlib.font_manager: generated new fontManager\r\n",
      "\r\n",
      "Collecting usage statistics. To deactivate, set browser.gatherUsageStats to False.\r\n",
      "\r\n",
      "\r\n",
      "  You can now view your Streamlit app in your browser.\r\n",
      "\r\n",
      "  URL: http://0.0.0.0:80\r\n",
      "\r\n"
     ]
    }
   ],
   "source": [
    "if run_local:\n",
    "    # define exposed port (docker port forwarding)\n",
    "    port = 8501\n",
    "\n",
    "    # run docker image\n",
    "    command = utils.get_docker_run_command(port, image_name,\n",
    "                                           debug=False)\n",
    "    # command = utils.get_docker_run_command(port, image_name,\n",
    "    #                                        local_dir_mount=os.getcwd(),\n",
    "    #                                        debug=True)\n",
    "\n",
    "    !{command}"
   ],
   "metadata": {
    "collapsed": false,
    "pycharm": {
     "is_executing": true
    }
   }
  },
  {
   "cell_type": "code",
   "execution_count": null,
   "outputs": [],
   "source": [],
   "metadata": {
    "collapsed": false,
    "pycharm": {
     "is_executing": true
    }
   }
  }
 ],
 "metadata": {
  "kernelspec": {
   "display_name": "Python 3 (ipykernel)",
   "language": "python",
   "name": "python3"
  },
  "language_info": {
   "codemirror_mode": {
    "name": "ipython",
    "version": 3
   },
   "file_extension": ".py",
   "mimetype": "text/x-python",
   "name": "python",
   "nbconvert_exporter": "python",
   "pygments_lexer": "ipython3",
   "version": "3.8.12"
  }
 },
 "nbformat": 4,
 "nbformat_minor": 5
}
