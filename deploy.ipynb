{
 "cells": [
  {
   "cell_type": "code",
   "execution_count": 15,
   "id": "f11d523c-3961-457a-a69c-2da9f24333a8",
   "metadata": {},
   "outputs": [],
   "source": [
    "import os\n",
    "import utils"
   ]
  },
  {
   "cell_type": "code",
   "execution_count": 16,
   "id": "116a8c09-1b6e-40e6-bcfa-e187d7ef222d",
   "metadata": {},
   "outputs": [
    {
     "name": "stdout",
     "output_type": "stream",
     "text": [
      "Docker version 20.10.17, build 100c701\r\n",
      "Python 3.9.7\r\n"
     ]
    }
   ],
   "source": [
    "# fix path variable\n",
    "!docker --version\n",
    "!python --version"
   ]
  },
  {
   "cell_type": "markdown",
   "id": "25ae5eea-b0a9-463d-a55f-bcdb1c74537e",
   "metadata": {},
   "source": [
    "### Build requirements.txt\n",
    "**pipreqs** builds the requirements.txt based on the libraries used in the notebook. **nbconvert** is used to convert the notebook to a script that can be used by **pipreqs**. Additional line added to include **jupyter** as it is needed to run the Bokeh app."
   ]
  },
  {
   "cell_type": "code",
   "execution_count": 17,
   "id": "cbf144fd-45c1-47ef-b218-a87ead30fea1",
   "metadata": {},
   "outputs": [],
   "source": [
    "!pip freeze | grep -v disaster_tweet_detect > requirements.txt"
   ]
  },
  {
   "cell_type": "markdown",
   "id": "34558c08-0764-4c8e-a3c9-e43afcef6753",
   "metadata": {},
   "source": [
    "### Build docker image\n",
    "Image is build with the *image name*. The build will take a while on the first run because it needs to download the base image."
   ]
  },
  {
   "cell_type": "code",
   "execution_count": 18,
   "id": "7c973937-485e-4f38-8a32-22245b45da4b",
   "metadata": {},
   "outputs": [],
   "source": [
    "# define docker image name\n",
    "image_name = 'disaster_tweet_detect:1.0'"
   ]
  },
  {
   "cell_type": "code",
   "execution_count": 19,
   "id": "8e5c666a-7701-49be-a266-cc82f9502fb5",
   "metadata": {},
   "outputs": [
    {
     "name": "stdout",
     "output_type": "stream",
     "text": [
      "sha256:798940f92ea29ddcb918cb5acbac561f7b30cbac19b66aaa43d435cc365dc204\r\n"
     ]
    }
   ],
   "source": [
    "# build docker image\n",
    "!(docker build -q -t {image_name} .)"
   ]
  },
  {
   "cell_type": "markdown",
   "id": "4bc383c2-6d19-42ba-872d-ba9e746647eb",
   "metadata": {},
   "source": [
    "### Run docker image locally\n",
    "Docker image will run on a docker server. The Streamlit server will run with its default port (80) but needs to be port forwarded by docker and is defined below."
   ]
  },
  {
   "cell_type": "code",
   "execution_count": 20,
   "id": "2b96ab4c-d090-4da2-b5fb-00af1d97f304",
   "metadata": {},
   "outputs": [
    {
     "name": "stdout",
     "output_type": "stream",
     "text": [
      "2023-04-07 22:37:50.182 INFO    matplotlib.font_manager: generated new fontManager\r\n",
      "\r\n",
      "Collecting usage statistics. To deactivate, set browser.gatherUsageStats to False.\r\n",
      "\r\n",
      "\r\n",
      "  You can now view your Streamlit app in your browser.\r\n",
      "\r\n",
      "  URL: http://0.0.0.0:443\r\n",
      "\r\n",
      "^C\r\n",
      "  Stopping...\r\n"
     ]
    }
   ],
   "source": [
    "# define exposed port (docker port forwarding)\n",
    "port = 8501\n",
    "\n",
    "# run docker image\n",
    "command = utils.get_docker_run_command(port, image_name,\n",
    "                                       debug=False)\n",
    "# command = utils.get_docker_run_command(port, image_name,\n",
    "#                                        local_dir_mount=os.getcwd(),\n",
    "#                                        debug=True)\n",
    "\n",
    "!{command}"
   ]
  }
 ],
 "metadata": {
  "kernelspec": {
   "display_name": "Python 3 (ipykernel)",
   "language": "python",
   "name": "python3"
  },
  "language_info": {
   "codemirror_mode": {
    "name": "ipython",
    "version": 3
   },
   "file_extension": ".py",
   "mimetype": "text/x-python",
   "name": "python",
   "nbconvert_exporter": "python",
   "pygments_lexer": "ipython3",
   "version": "3.8.12"
  }
 },
 "nbformat": 4,
 "nbformat_minor": 5
}
